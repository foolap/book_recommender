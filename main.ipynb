{
 "cells": [
  {
   "cell_type": "code",
   "execution_count": 37,
   "id": "initial_id",
   "metadata": {
    "collapsed": true,
    "ExecuteTime": {
     "end_time": "2024-01-24T09:00:11.684313900Z",
     "start_time": "2024-01-24T09:00:11.622194Z"
    }
   },
   "outputs": [],
   "source": [
    "import numpy as np\n",
    "import pandas as pd\n",
    "import matplotlib.pyplot as plt"
   ]
  },
  {
   "cell_type": "markdown",
   "source": [
    "Since our dataset is huge, we will use sample of size 40000"
   ],
   "metadata": {
    "collapsed": false
   },
   "id": "e73d2bd88fd9c67f"
  },
  {
   "cell_type": "code",
   "execution_count": 38,
   "outputs": [
    {
     "name": "stderr",
     "output_type": "stream",
     "text": [
      "C:\\Users\\adamp\\AppData\\Local\\Temp\\ipykernel_9276\\807958495.py:3: DtypeWarning: Columns (3) have mixed types. Specify dtype option on import or set low_memory=False.\n",
      "  books = pd.read_csv(\"Books.csv\")\n"
     ]
    }
   ],
   "source": [
    "users = pd.read_csv(\"Users.csv\")\n",
    "ratings = pd.read_csv(\"Ratings.csv\").sample(n=40000, random_state=42)\n",
    "books = pd.read_csv(\"Books.csv\")\n"
   ],
   "metadata": {
    "collapsed": false,
    "ExecuteTime": {
     "end_time": "2024-01-24T09:00:13.834518800Z",
     "start_time": "2024-01-24T09:00:11.629450800Z"
    }
   },
   "id": "8ab66427e1160d4a"
  },
  {
   "cell_type": "code",
   "execution_count": 39,
   "outputs": [],
   "source": [
    "pd.set_option('display.max_columns',10)"
   ],
   "metadata": {
    "collapsed": false,
    "ExecuteTime": {
     "end_time": "2024-01-24T09:00:13.834518800Z",
     "start_time": "2024-01-24T09:00:13.828267900Z"
    }
   },
   "id": "5fc271f6db5fa333"
  },
  {
   "cell_type": "code",
   "execution_count": 40,
   "outputs": [
    {
     "data": {
      "text/plain": "         User-ID        ISBN  Book-Rating\n811996    197550  0586056092            0\n395489     95359  0060916508            9\n1087976   260865  0590620096            0\n283523     67663  0142000221            0\n85509      18082  0590582895            0\n...          ...         ...          ...\n634011    153662  0385128800            0\n785756    189855  0020519001            5\n250163     56959  0671747096            0\n244557     56271  0804111642            8\n783082    189558  0671035452            9\n\n[40000 rows x 3 columns]",
      "text/html": "<div>\n<style scoped>\n    .dataframe tbody tr th:only-of-type {\n        vertical-align: middle;\n    }\n\n    .dataframe tbody tr th {\n        vertical-align: top;\n    }\n\n    .dataframe thead th {\n        text-align: right;\n    }\n</style>\n<table border=\"1\" class=\"dataframe\">\n  <thead>\n    <tr style=\"text-align: right;\">\n      <th></th>\n      <th>User-ID</th>\n      <th>ISBN</th>\n      <th>Book-Rating</th>\n    </tr>\n  </thead>\n  <tbody>\n    <tr>\n      <th>811996</th>\n      <td>197550</td>\n      <td>0586056092</td>\n      <td>0</td>\n    </tr>\n    <tr>\n      <th>395489</th>\n      <td>95359</td>\n      <td>0060916508</td>\n      <td>9</td>\n    </tr>\n    <tr>\n      <th>1087976</th>\n      <td>260865</td>\n      <td>0590620096</td>\n      <td>0</td>\n    </tr>\n    <tr>\n      <th>283523</th>\n      <td>67663</td>\n      <td>0142000221</td>\n      <td>0</td>\n    </tr>\n    <tr>\n      <th>85509</th>\n      <td>18082</td>\n      <td>0590582895</td>\n      <td>0</td>\n    </tr>\n    <tr>\n      <th>...</th>\n      <td>...</td>\n      <td>...</td>\n      <td>...</td>\n    </tr>\n    <tr>\n      <th>634011</th>\n      <td>153662</td>\n      <td>0385128800</td>\n      <td>0</td>\n    </tr>\n    <tr>\n      <th>785756</th>\n      <td>189855</td>\n      <td>0020519001</td>\n      <td>5</td>\n    </tr>\n    <tr>\n      <th>250163</th>\n      <td>56959</td>\n      <td>0671747096</td>\n      <td>0</td>\n    </tr>\n    <tr>\n      <th>244557</th>\n      <td>56271</td>\n      <td>0804111642</td>\n      <td>8</td>\n    </tr>\n    <tr>\n      <th>783082</th>\n      <td>189558</td>\n      <td>0671035452</td>\n      <td>9</td>\n    </tr>\n  </tbody>\n</table>\n<p>40000 rows × 3 columns</p>\n</div>"
     },
     "execution_count": 40,
     "metadata": {},
     "output_type": "execute_result"
    }
   ],
   "source": [
    "ratings"
   ],
   "metadata": {
    "collapsed": false,
    "ExecuteTime": {
     "end_time": "2024-01-24T09:00:13.847994900Z",
     "start_time": "2024-01-24T09:00:13.833525800Z"
    }
   },
   "id": "22447aae6f1dc445"
  },
  {
   "cell_type": "code",
   "execution_count": 42,
   "outputs": [
    {
     "data": {
      "text/plain": "             User-ID   Book-Rating\ncount   40000.000000  40000.000000\nmean   139566.768200      2.847650\nstd     80205.852639      3.842845\nmin         8.000000      0.000000\n25%     69721.000000      0.000000\n50%    138844.000000      0.000000\n75%    209878.250000      7.000000\nmax    278854.000000     10.000000",
      "text/html": "<div>\n<style scoped>\n    .dataframe tbody tr th:only-of-type {\n        vertical-align: middle;\n    }\n\n    .dataframe tbody tr th {\n        vertical-align: top;\n    }\n\n    .dataframe thead th {\n        text-align: right;\n    }\n</style>\n<table border=\"1\" class=\"dataframe\">\n  <thead>\n    <tr style=\"text-align: right;\">\n      <th></th>\n      <th>User-ID</th>\n      <th>Book-Rating</th>\n    </tr>\n  </thead>\n  <tbody>\n    <tr>\n      <th>count</th>\n      <td>40000.000000</td>\n      <td>40000.000000</td>\n    </tr>\n    <tr>\n      <th>mean</th>\n      <td>139566.768200</td>\n      <td>2.847650</td>\n    </tr>\n    <tr>\n      <th>std</th>\n      <td>80205.852639</td>\n      <td>3.842845</td>\n    </tr>\n    <tr>\n      <th>min</th>\n      <td>8.000000</td>\n      <td>0.000000</td>\n    </tr>\n    <tr>\n      <th>25%</th>\n      <td>69721.000000</td>\n      <td>0.000000</td>\n    </tr>\n    <tr>\n      <th>50%</th>\n      <td>138844.000000</td>\n      <td>0.000000</td>\n    </tr>\n    <tr>\n      <th>75%</th>\n      <td>209878.250000</td>\n      <td>7.000000</td>\n    </tr>\n    <tr>\n      <th>max</th>\n      <td>278854.000000</td>\n      <td>10.000000</td>\n    </tr>\n  </tbody>\n</table>\n</div>"
     },
     "execution_count": 42,
     "metadata": {},
     "output_type": "execute_result"
    }
   ],
   "source": [
    "ratings.describe()"
   ],
   "metadata": {
    "collapsed": false,
    "ExecuteTime": {
     "end_time": "2024-01-24T09:00:13.967737100Z",
     "start_time": "2024-01-24T09:00:13.871586800Z"
    }
   },
   "id": "f2c60cdcb55f0569"
  },
  {
   "cell_type": "markdown",
   "source": [],
   "metadata": {
    "collapsed": false
   },
   "id": "51f6deeffa6b0faf"
  },
  {
   "cell_type": "code",
   "execution_count": 43,
   "outputs": [
    {
     "data": {
      "text/plain": "(array([25003.,    56.,    99.,   192.,   282.,  1785.,  1297.,  2647.,\n         3659.,  4980.]),\n array([ 0.,  1.,  2.,  3.,  4.,  5.,  6.,  7.,  8.,  9., 10.]),\n <BarContainer object of 10 artists>)"
     },
     "execution_count": 43,
     "metadata": {},
     "output_type": "execute_result"
    },
    {
     "data": {
      "text/plain": "<Figure size 640x480 with 1 Axes>",
      "image/png": "[encoded data removed]"
     },
     "metadata": {},
     "output_type": "display_data"
    }
   ],
   "source": [
    "plt.hist(ratings[\"Book-Rating\"])"
   ],
   "metadata": {
    "collapsed": false,
    "ExecuteTime": {
     "end_time": "2024-01-24T09:00:14.182304600Z",
     "start_time": "2024-01-24T09:00:13.898104900Z"
    }
   },
   "id": "e1c86c96e9419b57"
  },
  {
   "cell_type": "code",
   "execution_count": 44,
   "outputs": [
    {
     "name": "stdout",
     "output_type": "stream",
     "text": [
      "30136\n"
     ]
    }
   ],
   "source": [
    "print(ratings[\"ISBN\"].nunique())"
   ],
   "metadata": {
    "collapsed": false,
    "ExecuteTime": {
     "end_time": "2024-01-24T09:00:14.183302200Z",
     "start_time": "2024-01-24T09:00:14.080266600Z"
    }
   },
   "id": "95e81f6b6114518c"
  },
  {
   "cell_type": "markdown",
   "source": [
    "First we will remove all the 0 ratings. There are some ISBN values in ratings, that are not in books dataset, we will also remove them."
   ],
   "metadata": {
    "collapsed": false
   },
   "id": "2ac361de18a24b5d"
  },
  {
   "cell_type": "code",
   "execution_count": 132,
   "outputs": [
    {
     "data": {
      "text/plain": "        User-ID        ISBN  Book-Rating\n78510     16795  0345339703            8\n108917    25123  0345339703           10\n802449   194803  0345339703           10\n903802   219065  0345339703            8\n111815    25981  0345339703            5",
      "text/html": "<div>\n<style scoped>\n    .dataframe tbody tr th:only-of-type {\n        vertical-align: middle;\n    }\n\n    .dataframe tbody tr th {\n        vertical-align: top;\n    }\n\n    .dataframe thead th {\n        text-align: right;\n    }\n</style>\n<table border=\"1\" class=\"dataframe\">\n  <thead>\n    <tr style=\"text-align: right;\">\n      <th></th>\n      <th>User-ID</th>\n      <th>ISBN</th>\n      <th>Book-Rating</th>\n    </tr>\n  </thead>\n  <tbody>\n    <tr>\n      <th>78510</th>\n      <td>16795</td>\n      <td>0345339703</td>\n      <td>8</td>\n    </tr>\n    <tr>\n      <th>108917</th>\n      <td>25123</td>\n      <td>0345339703</td>\n      <td>10</td>\n    </tr>\n    <tr>\n      <th>802449</th>\n      <td>194803</td>\n      <td>0345339703</td>\n      <td>10</td>\n    </tr>\n    <tr>\n      <th>903802</th>\n      <td>219065</td>\n      <td>0345339703</td>\n      <td>8</td>\n    </tr>\n    <tr>\n      <th>111815</th>\n      <td>25981</td>\n      <td>0345339703</td>\n      <td>5</td>\n    </tr>\n  </tbody>\n</table>\n</div>"
     },
     "execution_count": 132,
     "metadata": {},
     "output_type": "execute_result"
    }
   ],
   "source": [
    "ratings_filtered = ratings[ratings[\"Book-Rating\"] != 0]\n",
    "mask = ratings_filtered['ISBN'].isin(books['ISBN'])\n",
    "ratings_filtered = ratings_filtered[mask]"
   ],
   "metadata": {
    "collapsed": false,
    "ExecuteTime": {
     "end_time": "2024-01-24T10:07:57.811200900Z",
     "start_time": "2024-01-24T10:07:57.751546400Z"
    }
   },
   "id": "2afd29a9722a9f0b"
  },
  {
   "cell_type": "code",
   "execution_count": 70,
   "outputs": [
    {
     "data": {
      "text/plain": "             User-ID   Book-Rating\ncount   13277.000000  13277.000000\nmean   134644.375235      7.617383\nstd     80636.242304      1.821053\nmin         8.000000      1.000000\n25%     64405.000000      7.000000\n50%    130482.000000      8.000000\n75%    205037.000000      9.000000\nmax    278854.000000     10.000000",
      "text/html": "<div>\n<style scoped>\n    .dataframe tbody tr th:only-of-type {\n        vertical-align: middle;\n    }\n\n    .dataframe tbody tr th {\n        vertical-align: top;\n    }\n\n    .dataframe thead th {\n        text-align: right;\n    }\n</style>\n<table border=\"1\" class=\"dataframe\">\n  <thead>\n    <tr style=\"text-align: right;\">\n      <th></th>\n      <th>User-ID</th>\n      <th>Book-Rating</th>\n    </tr>\n  </thead>\n  <tbody>\n    <tr>\n      <th>count</th>\n      <td>13277.000000</td>\n      <td>13277.000000</td>\n    </tr>\n    <tr>\n      <th>mean</th>\n      <td>134644.375235</td>\n      <td>7.617383</td>\n    </tr>\n    <tr>\n      <th>std</th>\n      <td>80636.242304</td>\n      <td>1.821053</td>\n    </tr>\n    <tr>\n      <th>min</th>\n      <td>8.000000</td>\n      <td>1.000000</td>\n    </tr>\n    <tr>\n      <th>25%</th>\n      <td>64405.000000</td>\n      <td>7.000000</td>\n    </tr>\n    <tr>\n      <th>50%</th>\n      <td>130482.000000</td>\n      <td>8.000000</td>\n    </tr>\n    <tr>\n      <th>75%</th>\n      <td>205037.000000</td>\n      <td>9.000000</td>\n    </tr>\n    <tr>\n      <th>max</th>\n      <td>278854.000000</td>\n      <td>10.000000</td>\n    </tr>\n  </tbody>\n</table>\n</div>"
     },
     "execution_count": 70,
     "metadata": {},
     "output_type": "execute_result"
    }
   ],
   "source": [
    "ratings_filtered.describe()"
   ],
   "metadata": {
    "collapsed": false,
    "ExecuteTime": {
     "end_time": "2024-01-24T09:21:34.443747300Z",
     "start_time": "2024-01-24T09:21:34.426092100Z"
    }
   },
   "id": "16a7ffc4063be09e"
  },
  {
   "cell_type": "code",
   "execution_count": 47,
   "outputs": [
    {
     "data": {
      "text/plain": "         User-ID        ISBN  Book-Rating\n395489     95359  0060916508            9\n374715     90049  0380698498            5\n100722     23619  0312278586            6\n940831    227705  0425121631            7\n148962     33603  0911104674           10\n...          ...         ...          ...\n1126875   270339  0345439007            5\n433851    103541  0451453573           10\n785756    189855  0020519001            5\n244557     56271  0804111642            8\n783082    189558  0671035452            9\n\n[14997 rows x 3 columns]",
      "text/html": "<div>\n<style scoped>\n    .dataframe tbody tr th:only-of-type {\n        vertical-align: middle;\n    }\n\n    .dataframe tbody tr th {\n        vertical-align: top;\n    }\n\n    .dataframe thead th {\n        text-align: right;\n    }\n</style>\n<table border=\"1\" class=\"dataframe\">\n  <thead>\n    <tr style=\"text-align: right;\">\n      <th></th>\n      <th>User-ID</th>\n      <th>ISBN</th>\n      <th>Book-Rating</th>\n    </tr>\n  </thead>\n  <tbody>\n    <tr>\n      <th>395489</th>\n      <td>95359</td>\n      <td>0060916508</td>\n      <td>9</td>\n    </tr>\n    <tr>\n      <th>374715</th>\n      <td>90049</td>\n      <td>0380698498</td>\n      <td>5</td>\n    </tr>\n    <tr>\n      <th>100722</th>\n      <td>23619</td>\n      <td>0312278586</td>\n      <td>6</td>\n    </tr>\n    <tr>\n      <th>940831</th>\n      <td>227705</td>\n      <td>0425121631</td>\n      <td>7</td>\n    </tr>\n    <tr>\n      <th>148962</th>\n      <td>33603</td>\n      <td>0911104674</td>\n      <td>10</td>\n    </tr>\n    <tr>\n      <th>...</th>\n      <td>...</td>\n      <td>...</td>\n      <td>...</td>\n    </tr>\n    <tr>\n      <th>1126875</th>\n      <td>270339</td>\n      <td>0345439007</td>\n      <td>5</td>\n    </tr>\n    <tr>\n      <th>433851</th>\n      <td>103541</td>\n      <td>0451453573</td>\n      <td>10</td>\n    </tr>\n    <tr>\n      <th>785756</th>\n      <td>189855</td>\n      <td>0020519001</td>\n      <td>5</td>\n    </tr>\n    <tr>\n      <th>244557</th>\n      <td>56271</td>\n      <td>0804111642</td>\n      <td>8</td>\n    </tr>\n    <tr>\n      <th>783082</th>\n      <td>189558</td>\n      <td>0671035452</td>\n      <td>9</td>\n    </tr>\n  </tbody>\n</table>\n<p>14997 rows × 3 columns</p>\n</div>"
     },
     "execution_count": 47,
     "metadata": {},
     "output_type": "execute_result"
    }
   ],
   "source": [
    "ratings_filtered"
   ],
   "metadata": {
    "collapsed": false,
    "ExecuteTime": {
     "end_time": "2024-01-24T09:00:14.185981900Z",
     "start_time": "2024-01-24T09:00:14.134149700Z"
    }
   },
   "id": "ff7b8799de33edb5"
  },
  {
   "cell_type": "code",
   "execution_count": 135,
   "outputs": [
    {
     "data": {
      "text/plain": "11033"
     },
     "execution_count": 135,
     "metadata": {},
     "output_type": "execute_result"
    }
   ],
   "source": [
    "ratings_filtered['ISBN'].nunique()"
   ],
   "metadata": {
    "collapsed": false,
    "ExecuteTime": {
     "end_time": "2024-01-24T10:18:09.283948300Z",
     "start_time": "2024-01-24T10:18:09.078136Z"
    }
   },
   "id": "c3f7d4538a076c02"
  },
  {
   "cell_type": "code",
   "execution_count": 143,
   "outputs": [],
   "source": [
    "selected_isbn = ratings_filtered['ISBN'].unique()\n",
    "selected_books = books[books['ISBN'].isin(selected_isbn)]"
   ],
   "metadata": {
    "collapsed": false,
    "ExecuteTime": {
     "end_time": "2024-01-24T10:27:18.872618100Z",
     "start_time": "2024-01-24T10:27:18.195753200Z"
    }
   },
   "id": "cfd9265b03741312"
  },
  {
   "cell_type": "code",
   "execution_count": 144,
   "outputs": [
    {
     "data": {
      "text/plain": "              ISBN                                         Book-Title  \\\n1       0002005018                                       Clara Callan   \n12      0887841740                                 The Middle Stories   \n18      0440234743                                      The Testament   \n19      0452264464               Beloved (Plume Contemporary Fiction)   \n26      0971880107                                        Wild Animus   \n...            ...                                                ...   \n271162  0114934274  Scotland Bc: An Introduction to the Prehistori...   \n271274  1400303214               Stranger Online (Todaysgirlsonly, 1)   \n271278  1414048688            Professor Terwilliger and Tim Neptune I   \n271280  1578567475  Hyperlinkz Book 1 : Digital Disaster (Hyperlinkz)   \n271291  1893699560    Dangerous Dolls of Delaware (American Chillers)   \n\n                 Book-Author Year-Of-Publication                Publisher  \\\n1       Richard Bruce Wright                2001    HarperFlamingo Canada   \n12               Sheila Heti                2004    House of Anansi Press   \n18              John Grisham                1999                     Dell   \n19             Toni Morrison                1994                    Plume   \n26              Rich Shapero                2004                  Too Far   \n...                      ...                 ...                      ...   \n271162          Anna Ritchie                1988  Stationery Office Books   \n271274           Terry Brown                2003             Tommy Nelson   \n271278         Cal Patterson                2004         1stBooks Library   \n271280          ROBERT ELMER                2004         WaterBrook Press   \n271291        Johnathan Rand                2003       Audio Craft Pr Inc   \n\n                                              Image-URL-S  \\\n1       http://images.amazon.com/images/P/0002005018.0...   \n12      http://images.amazon.com/images/P/0887841740.0...   \n18      http://images.amazon.com/images/P/0440234743.0...   \n19      http://images.amazon.com/images/P/0452264464.0...   \n26      http://images.amazon.com/images/P/0971880107.0...   \n...                                                   ...   \n271162  http://images.amazon.com/images/P/0114934274.0...   \n271274  http://images.amazon.com/images/P/1400303214.0...   \n271278  http://images.amazon.com/images/P/1414048688.0...   \n271280  http://images.amazon.com/images/P/1578567475.0...   \n271291  http://images.amazon.com/images/P/1893699560.0...   \n\n                                              Image-URL-M  \\\n1       http://images.amazon.com/images/P/0002005018.0...   \n12      http://images.amazon.com/images/P/0887841740.0...   \n18      http://images.amazon.com/images/P/0440234743.0...   \n19      http://images.amazon.com/images/P/0452264464.0...   \n26      http://images.amazon.com/images/P/0971880107.0...   \n...                                                   ...   \n271162  http://images.amazon.com/images/P/0114934274.0...   \n271274  http://images.amazon.com/images/P/1400303214.0...   \n271278  http://images.amazon.com/images/P/1414048688.0...   \n271280  http://images.amazon.com/images/P/1578567475.0...   \n271291  http://images.amazon.com/images/P/1893699560.0...   \n\n                                              Image-URL-L  \n1       http://images.amazon.com/images/P/0002005018.0...  \n12      http://images.amazon.com/images/P/0887841740.0...  \n18      http://images.amazon.com/images/P/0440234743.0...  \n19      http://images.amazon.com/images/P/0452264464.0...  \n26      http://images.amazon.com/images/P/0971880107.0...  \n...                                                   ...  \n271162  http://images.amazon.com/images/P/0114934274.0...  \n271274  http://images.amazon.com/images/P/1400303214.0...  \n271278  http://images.amazon.com/images/P/1414048688.0...  \n271280  http://images.amazon.com/images/P/1578567475.0...  \n271291  http://images.amazon.com/images/P/1893699560.0...  \n\n[11033 rows x 8 columns]",
      "text/html": "<div>\n<style scoped>\n    .dataframe tbody tr th:only-of-type {\n        vertical-align: middle;\n    }\n\n    .dataframe tbody tr th {\n        vertical-align: top;\n    }\n\n    .dataframe thead th {\n        text-align: right;\n    }\n</style>\n<table border=\"1\" class=\"dataframe\">\n  <thead>\n    <tr style=\"text-align: right;\">\n      <th></th>\n      <th>ISBN</th>\n      <th>Book-Title</th>\n      <th>Book-Author</th>\n      <th>Year-Of-Publication</th>\n      <th>Publisher</th>\n      <th>Image-URL-S</th>\n      <th>Image-URL-M</th>\n      <th>Image-URL-L</th>\n    </tr>\n  </thead>\n  <tbody>\n    <tr>\n      <th>1</th>\n      <td>0002005018</td>\n      <td>Clara Callan</td>\n      <td>Richard Bruce Wright</td>\n      <td>2001</td>\n      <td>HarperFlamingo Canada</td>\n      <td>http://images.amazon.com/images/P/0002005018.0...</td>\n      <td>http://images.amazon.com/images/P/0002005018.0...</td>\n      <td>http://images.amazon.com/images/P/0002005018.0...</td>\n    </tr>\n    <tr>\n      <th>12</th>\n      <td>0887841740</td>\n      <td>The Middle Stories</td>\n      <td>Sheila Heti</td>\n      <td>2004</td>\n      <td>House of Anansi Press</td>\n      <td>http://images.amazon.com/images/P/0887841740.0...</td>\n      <td>http://images.amazon.com/images/P/0887841740.0...</td>\n      <td>http://images.amazon.com/images/P/0887841740.0...</td>\n    </tr>\n    <tr>\n      <th>18</th>\n      <td>0440234743</td>\n      <td>The Testament</td>\n      <td>John Grisham</td>\n      <td>1999</td>\n      <td>Dell</td>\n      <td>http://images.amazon.com/images/P/0440234743.0...</td>\n      <td>http://images.amazon.com/images/P/0440234743.0...</td>\n      <td>http://images.amazon.com/images/P/0440234743.0...</td>\n    </tr>\n    <tr>\n      <th>19</th>\n      <td>0452264464</td>\n      <td>Beloved (Plume Contemporary Fiction)</td>\n      <td>Toni Morrison</td>\n      <td>1994</td>\n      <td>Plume</td>\n      <td>http://images.amazon.com/images/P/0452264464.0...</td>\n      <td>http://images.amazon.com/images/P/0452264464.0...</td>\n      <td>http://images.amazon.com/images/P/0452264464.0...</td>\n    </tr>\n    <tr>\n      <th>26</th>\n      <td>0971880107</td>\n      <td>Wild Animus</td>\n      <td>Rich Shapero</td>\n      <td>2004</td>\n      <td>Too Far</td>\n      <td>http://images.amazon.com/images/P/0971880107.0...</td>\n      <td>http://images.amazon.com/images/P/0971880107.0...</td>\n      <td>http://images.amazon.com/images/P/0971880107.0...</td>\n    </tr>\n    <tr>\n      <th>...</th>\n      <td>...</td>\n      <td>...</td>\n      <td>...</td>\n      <td>...</td>\n      <td>...</td>\n      <td>...</td>\n      <td>...</td>\n      <td>...</td>\n    </tr>\n    <tr>\n      <th>271162</th>\n      <td>0114934274</td>\n      <td>Scotland Bc: An Introduction to the Prehistori...</td>\n      <td>Anna Ritchie</td>\n      <td>1988</td>\n      <td>Stationery Office Books</td>\n      <td>http://images.amazon.com/images/P/0114934274.0...</td>\n      <td>http://images.amazon.com/images/P/0114934274.0...</td>\n      <td>http://images.amazon.com/images/P/0114934274.0...</td>\n    </tr>\n    <tr>\n      <th>271274</th>\n      <td>1400303214</td>\n      <td>Stranger Online (Todaysgirlsonly, 1)</td>\n      <td>Terry Brown</td>\n      <td>2003</td>\n      <td>Tommy Nelson</td>\n      <td>http://images.amazon.com/images/P/1400303214.0...</td>\n      <td>http://images.amazon.com/images/P/1400303214.0...</td>\n      <td>http://images.amazon.com/images/P/1400303214.0...</td>\n    </tr>\n    <tr>\n      <th>271278</th>\n      <td>1414048688</td>\n      <td>Professor Terwilliger and Tim Neptune I</td>\n      <td>Cal Patterson</td>\n      <td>2004</td>\n      <td>1stBooks Library</td>\n      <td>http://images.amazon.com/images/P/1414048688.0...</td>\n      <td>http://images.amazon.com/images/P/1414048688.0...</td>\n      <td>http://images.amazon.com/images/P/1414048688.0...</td>\n    </tr>\n    <tr>\n      <th>271280</th>\n      <td>1578567475</td>\n      <td>Hyperlinkz Book 1 : Digital Disaster (Hyperlinkz)</td>\n      <td>ROBERT ELMER</td>\n      <td>2004</td>\n      <td>WaterBrook Press</td>\n      <td>http://images.amazon.com/images/P/1578567475.0...</td>\n      <td>http://images.amazon.com/images/P/1578567475.0...</td>\n      <td>http://images.amazon.com/images/P/1578567475.0...</td>\n    </tr>\n    <tr>\n      <th>271291</th>\n      <td>1893699560</td>\n      <td>Dangerous Dolls of Delaware (American Chillers)</td>\n      <td>Johnathan Rand</td>\n      <td>2003</td>\n      <td>Audio Craft Pr Inc</td>\n      <td>http://images.amazon.com/images/P/1893699560.0...</td>\n      <td>http://images.amazon.com/images/P/1893699560.0...</td>\n      <td>http://images.amazon.com/images/P/1893699560.0...</td>\n    </tr>\n  </tbody>\n</table>\n<p>11033 rows × 8 columns</p>\n</div>"
     },
     "execution_count": 144,
     "metadata": {},
     "output_type": "execute_result"
    }
   ],
   "source": [
    "selected_books"
   ],
   "metadata": {
    "collapsed": false,
    "ExecuteTime": {
     "end_time": "2024-01-24T10:27:19.755961800Z",
     "start_time": "2024-01-24T10:27:19.735454100Z"
    }
   },
   "id": "6875b2cad01124e9"
  },
  {
   "cell_type": "markdown",
   "source": [
    "Let's create the item-user matrix."
   ],
   "metadata": {
    "collapsed": false
   },
   "id": "c3075ee08b8fbfd6"
  },
  {
   "cell_type": "code",
   "execution_count": 72,
   "outputs": [],
   "source": [
    "pivot_table = ratings_filtered.pivot_table(index=\"ISBN\",columns=\"User-ID\",values=\"Book-Rating\").fillna(0)"
   ],
   "metadata": {
    "collapsed": false,
    "ExecuteTime": {
     "end_time": "2024-01-24T09:21:48.923661500Z",
     "start_time": "2024-01-24T09:21:43.951058500Z"
    }
   },
   "id": "631839b3f7835541"
  },
  {
   "cell_type": "code",
   "execution_count": 73,
   "outputs": [
    {
     "data": {
      "text/plain": "11033"
     },
     "execution_count": 73,
     "metadata": {},
     "output_type": "execute_result"
    }
   ],
   "source": [
    "len(pivot_table.index)"
   ],
   "metadata": {
    "collapsed": false,
    "ExecuteTime": {
     "end_time": "2024-01-24T09:21:52.633009600Z",
     "start_time": "2024-01-24T09:21:52.600253900Z"
    }
   },
   "id": "2dc83b95707e8caf"
  },
  {
   "cell_type": "code",
   "execution_count": 74,
   "outputs": [
    {
     "data": {
      "text/plain": "array([[0., 0., 0., ..., 0., 0., 0.],\n       [0., 0., 0., ..., 0., 0., 0.],\n       [0., 0., 0., ..., 0., 0., 0.],\n       ...,\n       [0., 0., 0., ..., 0., 0., 0.],\n       [0., 0., 0., ..., 0., 0., 0.],\n       [0., 0., 0., ..., 0., 0., 0.]])"
     },
     "execution_count": 74,
     "metadata": {},
     "output_type": "execute_result"
    }
   ],
   "source": [
    "user_matrix = pivot_table.to_numpy()\n",
    "user_matrix"
   ],
   "metadata": {
    "collapsed": false,
    "ExecuteTime": {
     "end_time": "2024-01-24T09:21:55.106526900Z",
     "start_time": "2024-01-24T09:21:55.100851600Z"
    }
   },
   "id": "55f03951393b5d36"
  },
  {
   "cell_type": "markdown",
   "source": [
    "Let's check for matrix sparsity. Collaborative filtering do NOT work well if data is too sparse."
   ],
   "metadata": {
    "collapsed": false
   },
   "id": "e99501040f617575"
  },
  {
   "cell_type": "code",
   "execution_count": 148,
   "outputs": [
    {
     "data": {
      "text/plain": "0.00015533623731876528"
     },
     "execution_count": 148,
     "metadata": {},
     "output_type": "execute_result"
    }
   ],
   "source": [
    "sparsity = np.count_nonzero(user_matrix)/(np.shape(user_matrix)[0]*np.shape(user_matrix)[1])\n",
    "sparsity"
   ],
   "metadata": {
    "collapsed": false,
    "ExecuteTime": {
     "end_time": "2024-01-24T10:44:51.122333700Z",
     "start_time": "2024-01-24T10:44:50.127569100Z"
    }
   },
   "id": "6e83b7c99cf05a55"
  },
  {
   "cell_type": "markdown",
   "source": [
    "The dataset is really sparse, let's continue for now and later we might remove books that have been rated only few times and see if that improves our resulting model.\n"
   ],
   "metadata": {
    "collapsed": false
   },
   "id": "2484b06e218e6bba"
  },
  {
   "cell_type": "code",
   "execution_count": 76,
   "outputs": [],
   "source": [
    "from sklearn.decomposition import TruncatedSVD"
   ],
   "metadata": {
    "collapsed": false,
    "ExecuteTime": {
     "end_time": "2024-01-24T09:22:45.868865400Z",
     "start_time": "2024-01-24T09:22:45.859709500Z"
    }
   },
   "id": "1f41c247f9fb026d"
  },
  {
   "cell_type": "code",
   "execution_count": 77,
   "outputs": [],
   "source": [
    "svd = TruncatedSVD(15)\n",
    "\n",
    "result = svd.fit_transform(user_matrix)\n"
   ],
   "metadata": {
    "collapsed": false,
    "ExecuteTime": {
     "end_time": "2024-01-24T09:22:49.561946900Z",
     "start_time": "2024-01-24T09:22:46.572021200Z"
    }
   },
   "id": "b2c854652604a40c"
  },
  {
   "cell_type": "code",
   "execution_count": 78,
   "outputs": [
    {
     "data": {
      "text/plain": "array([[ 1.48667966e-11, -2.66652016e-11, -9.98013475e-09, ...,\n        -1.11866999e-05, -8.94277335e-06, -1.41306013e-05],\n       [ 2.19908437e-14, -1.62781192e-14, -1.02344575e-11, ...,\n         5.44372045e-09,  7.04084150e-09, -1.16526601e-08],\n       [ 1.66091972e-17, -6.08090218e-18, -1.27845648e-14, ...,\n         1.55159135e-12,  1.59480437e-11,  2.25232378e-12],\n       ...,\n       [ 2.00881423e-15,  1.93937975e-16,  1.37072485e-13, ...,\n         1.12276047e-09,  2.50746217e-09, -9.20108467e-10],\n       [-7.23281122e-15, -2.42849399e-14,  1.39994973e-11, ...,\n        -1.53309203e-08, -1.98658324e-08,  2.73471734e-08],\n       [-1.45910848e-14,  3.47962923e-14, -5.11067324e-12, ...,\n         1.80606751e-09,  2.36896924e-09,  6.34891089e-09]])"
     },
     "execution_count": 78,
     "metadata": {},
     "output_type": "execute_result"
    }
   ],
   "source": [
    "result"
   ],
   "metadata": {
    "collapsed": false,
    "ExecuteTime": {
     "end_time": "2024-01-24T09:22:54.874285Z",
     "start_time": "2024-01-24T09:22:54.855047Z"
    }
   },
   "id": "446f9d1a21b220a4"
  },
  {
   "cell_type": "code",
   "execution_count": 79,
   "outputs": [],
   "source": [
    "user_matrix_reconstructed = np.dot(result,svd.components_)"
   ],
   "metadata": {
    "collapsed": false,
    "ExecuteTime": {
     "end_time": "2024-01-24T09:22:58.558974700Z",
     "start_time": "2024-01-24T09:22:57.732123500Z"
    }
   },
   "id": "f3db83687c6745a9"
  },
  {
   "cell_type": "code",
   "execution_count": 57,
   "outputs": [
    {
     "data": {
      "text/plain": "array([[-5.09463424e-17, -8.12344022e-14,  1.83145640e-14, ...,\n        -4.07692650e-18, -1.02788235e-11,  2.90257971e-16],\n       [ 2.80527910e-20,  2.46001801e-17, -9.42791250e-18, ...,\n         3.29440102e-20,  1.18798445e-14,  6.64682359e-19],\n       [-2.04271926e-22,  2.63909910e-16, -2.70529889e-17, ...,\n         5.71573576e-20, -3.62046910e-14,  7.16851374e-19],\n       ...,\n       [-1.28019208e-25, -3.53935429e-21,  3.48200999e-22, ...,\n        -3.45345852e-24, -1.98990965e-19, -7.35952490e-23],\n       [ 8.25202748e-22, -4.15623689e-18,  4.30309027e-19, ...,\n         6.40409533e-22,  1.15568374e-15,  2.23074314e-20],\n       [-2.44349459e-20, -2.73229062e-17,  1.22661786e-17, ...,\n        -2.04289189e-20,  4.08542771e-15, -1.86558227e-19]])"
     },
     "execution_count": 57,
     "metadata": {},
     "output_type": "execute_result"
    }
   ],
   "source": [
    "user_matrix_reconstructed"
   ],
   "metadata": {
    "collapsed": false,
    "ExecuteTime": {
     "end_time": "2024-01-24T09:00:27.970294600Z",
     "start_time": "2024-01-24T09:00:27.956382300Z"
    }
   },
   "id": "1bae5412d3dc8328"
  },
  {
   "cell_type": "code",
   "execution_count": 80,
   "outputs": [
    {
     "data": {
      "text/plain": "                    0             1             2             3     \\\nISBN                                                                 \n0001941941  1.376020e-18 -4.978111e-13 -1.946748e-14 -3.817650e-12   \n0002005018  6.004716e-20 -1.190426e-16 -2.607562e-17 -1.789529e-15   \n0002163578  1.413342e-22  3.883327e-19  2.186020e-20  7.415321e-19   \n0002165368 -1.406267e-13 -1.732132e-09  9.169788e-11  8.301927e-09   \n0002166828  3.190593e-18  2.024829e-14  5.447860e-16  1.981608e-13   \n...                  ...           ...           ...           ...   \n9879065271  6.829857e-19  4.361104e-14 -2.701472e-15 -2.505281e-13   \nB0000523SY  2.304944e-18 -1.063787e-15 -5.881551e-16 -3.967367e-14   \nB00006H3BO  1.685765e-20  3.161105e-17 -1.324861e-18 -9.758268e-19   \nB0000C2W5U -1.243954e-19 -2.794443e-17  6.405440e-17  2.193033e-15   \nB0000D9PEZ -1.955647e-20  5.968113e-17  1.150753e-17  1.896598e-15   \n\n                    4     ...          7742          7743          7744  \\\nISBN                      ...                                             \n0001941941 -1.737079e-12  ...  8.753160e-14 -3.618800e-10 -3.273433e-17   \n0002005018 -3.210037e-17  ...  8.065662e-17 -1.409923e-13 -5.239182e-20   \n0002163578  2.949247e-18  ... -2.673570e-20  9.340484e-17 -6.435679e-24   \n0002165368 -1.403649e-08  ...  6.592220e-10  4.329271e-07 -4.311873e-13   \n0002166828 -6.844362e-14  ... -6.909883e-16  3.295640e-12 -6.241430e-18   \n...                  ...  ...           ...           ...           ...   \n9879065271  2.421492e-13  ... -9.682806e-15  8.488693e-12  1.384683e-17   \nB0000523SY  5.201178e-15  ...  1.962783e-15 -4.445910e-12 -1.830063e-18   \nB00006H3BO  2.190590e-16  ...  5.228864e-18 -2.850709e-16 -8.031375e-21   \nB0000C2W5U  1.231014e-15  ... -1.384221e-16  3.167397e-13  1.605464e-19   \nB0000D9PEZ  1.640601e-16  ... -8.989530e-18  1.596216e-13 -2.960651e-22   \n\n                    7745          7746  \nISBN                                    \n0001941941  3.879143e-11 -1.949322e-16  \n0002005018  3.155001e-14  1.629140e-18  \n0002163578 -2.277051e-18  4.781080e-22  \n0002165368 -2.588910e-07 -8.053441e-12  \n0002166828 -2.758821e-12 -1.509287e-17  \n...                  ...           ...  \n9879065271  1.381027e-12  2.172536e-16  \nB0000523SY  9.344769e-13  4.177649e-17  \nB00006H3BO  2.291551e-15  2.501368e-19  \nB0000C2W5U -5.342867e-14 -3.780633e-18  \nB0000D9PEZ -1.990279e-14 -3.584797e-19  \n\n[11033 rows x 7747 columns]",
      "text/html": "<div>\n<style scoped>\n    .dataframe tbody tr th:only-of-type {\n        vertical-align: middle;\n    }\n\n    .dataframe tbody tr th {\n        vertical-align: top;\n    }\n\n    .dataframe thead th {\n        text-align: right;\n    }\n</style>\n<table border=\"1\" class=\"dataframe\">\n  <thead>\n    <tr style=\"text-align: right;\">\n      <th></th>\n      <th>0</th>\n      <th>1</th>\n      <th>2</th>\n      <th>3</th>\n      <th>4</th>\n      <th>...</th>\n      <th>7742</th>\n      <th>7743</th>\n      <th>7744</th>\n      <th>7745</th>\n      <th>7746</th>\n    </tr>\n    <tr>\n      <th>ISBN</th>\n      <th></th>\n      <th></th>\n      <th></th>\n      <th></th>\n      <th></th>\n      <th></th>\n      <th></th>\n      <th></th>\n      <th></th>\n      <th></th>\n      <th></th>\n    </tr>\n  </thead>\n  <tbody>\n    <tr>\n      <th>0001941941</th>\n      <td>1.376020e-18</td>\n      <td>-4.978111e-13</td>\n      <td>-1.946748e-14</td>\n      <td>-3.817650e-12</td>\n      <td>-1.737079e-12</td>\n      <td>...</td>\n      <td>8.753160e-14</td>\n      <td>-3.618800e-10</td>\n      <td>-3.273433e-17</td>\n      <td>3.879143e-11</td>\n      <td>-1.949322e-16</td>\n    </tr>\n    <tr>\n      <th>0002005018</th>\n      <td>6.004716e-20</td>\n      <td>-1.190426e-16</td>\n      <td>-2.607562e-17</td>\n      <td>-1.789529e-15</td>\n      <td>-3.210037e-17</td>\n      <td>...</td>\n      <td>8.065662e-17</td>\n      <td>-1.409923e-13</td>\n      <td>-5.239182e-20</td>\n      <td>3.155001e-14</td>\n      <td>1.629140e-18</td>\n    </tr>\n    <tr>\n      <th>0002163578</th>\n      <td>1.413342e-22</td>\n      <td>3.883327e-19</td>\n      <td>2.186020e-20</td>\n      <td>7.415321e-19</td>\n      <td>2.949247e-18</td>\n      <td>...</td>\n      <td>-2.673570e-20</td>\n      <td>9.340484e-17</td>\n      <td>-6.435679e-24</td>\n      <td>-2.277051e-18</td>\n      <td>4.781080e-22</td>\n    </tr>\n    <tr>\n      <th>0002165368</th>\n      <td>-1.406267e-13</td>\n      <td>-1.732132e-09</td>\n      <td>9.169788e-11</td>\n      <td>8.301927e-09</td>\n      <td>-1.403649e-08</td>\n      <td>...</td>\n      <td>6.592220e-10</td>\n      <td>4.329271e-07</td>\n      <td>-4.311873e-13</td>\n      <td>-2.588910e-07</td>\n      <td>-8.053441e-12</td>\n    </tr>\n    <tr>\n      <th>0002166828</th>\n      <td>3.190593e-18</td>\n      <td>2.024829e-14</td>\n      <td>5.447860e-16</td>\n      <td>1.981608e-13</td>\n      <td>-6.844362e-14</td>\n      <td>...</td>\n      <td>-6.909883e-16</td>\n      <td>3.295640e-12</td>\n      <td>-6.241430e-18</td>\n      <td>-2.758821e-12</td>\n      <td>-1.509287e-17</td>\n    </tr>\n    <tr>\n      <th>...</th>\n      <td>...</td>\n      <td>...</td>\n      <td>...</td>\n      <td>...</td>\n      <td>...</td>\n      <td>...</td>\n      <td>...</td>\n      <td>...</td>\n      <td>...</td>\n      <td>...</td>\n      <td>...</td>\n    </tr>\n    <tr>\n      <th>9879065271</th>\n      <td>6.829857e-19</td>\n      <td>4.361104e-14</td>\n      <td>-2.701472e-15</td>\n      <td>-2.505281e-13</td>\n      <td>2.421492e-13</td>\n      <td>...</td>\n      <td>-9.682806e-15</td>\n      <td>8.488693e-12</td>\n      <td>1.384683e-17</td>\n      <td>1.381027e-12</td>\n      <td>2.172536e-16</td>\n    </tr>\n    <tr>\n      <th>B0000523SY</th>\n      <td>2.304944e-18</td>\n      <td>-1.063787e-15</td>\n      <td>-5.881551e-16</td>\n      <td>-3.967367e-14</td>\n      <td>5.201178e-15</td>\n      <td>...</td>\n      <td>1.962783e-15</td>\n      <td>-4.445910e-12</td>\n      <td>-1.830063e-18</td>\n      <td>9.344769e-13</td>\n      <td>4.177649e-17</td>\n    </tr>\n    <tr>\n      <th>B00006H3BO</th>\n      <td>1.685765e-20</td>\n      <td>3.161105e-17</td>\n      <td>-1.324861e-18</td>\n      <td>-9.758268e-19</td>\n      <td>2.190590e-16</td>\n      <td>...</td>\n      <td>5.228864e-18</td>\n      <td>-2.850709e-16</td>\n      <td>-8.031375e-21</td>\n      <td>2.291551e-15</td>\n      <td>2.501368e-19</td>\n    </tr>\n    <tr>\n      <th>B0000C2W5U</th>\n      <td>-1.243954e-19</td>\n      <td>-2.794443e-17</td>\n      <td>6.405440e-17</td>\n      <td>2.193033e-15</td>\n      <td>1.231014e-15</td>\n      <td>...</td>\n      <td>-1.384221e-16</td>\n      <td>3.167397e-13</td>\n      <td>1.605464e-19</td>\n      <td>-5.342867e-14</td>\n      <td>-3.780633e-18</td>\n    </tr>\n    <tr>\n      <th>B0000D9PEZ</th>\n      <td>-1.955647e-20</td>\n      <td>5.968113e-17</td>\n      <td>1.150753e-17</td>\n      <td>1.896598e-15</td>\n      <td>1.640601e-16</td>\n      <td>...</td>\n      <td>-8.989530e-18</td>\n      <td>1.596216e-13</td>\n      <td>-2.960651e-22</td>\n      <td>-1.990279e-14</td>\n      <td>-3.584797e-19</td>\n    </tr>\n  </tbody>\n</table>\n<p>11033 rows × 7747 columns</p>\n</div>"
     },
     "execution_count": 80,
     "metadata": {},
     "output_type": "execute_result"
    }
   ],
   "source": [
    "df_user_matrix = pd.DataFrame(data=user_matrix_reconstructed,index = pivot_table.index)\n",
    "df_user_matrix"
   ],
   "metadata": {
    "collapsed": false,
    "ExecuteTime": {
     "end_time": "2024-01-24T09:23:18.685637100Z",
     "start_time": "2024-01-24T09:23:18.645822100Z"
    }
   },
   "id": "7a3d9247bd4f607d"
  },
  {
   "cell_type": "code",
   "execution_count": 88,
   "outputs": [],
   "source": [
    "from sklearn.metrics.pairwise import cosine_similarity\n",
    "\n",
    "\n",
    "#Funcion that computes cosine similarity of given book with each other in dataset. Returns list where each element is cosine similarity with given book and it's ISBN.\n",
    "def similar(book):\n",
    "    isbn = books.loc[books['Book-Title'] == book]['ISBN'].iloc[0]\n",
    "    similarities = []\n",
    "    vector = df_user_matrix.loc[isbn].values.reshape(1,-1)\n",
    "    for index in df_user_matrix.index:\n",
    "        similarities.append([cosine_similarity(vector,df_user_matrix.loc[index].values.reshape(1,-1))[0][0],index])\n",
    "    \n",
    "    return similarities\n",
    "        "
   ],
   "metadata": {
    "collapsed": false,
    "ExecuteTime": {
     "end_time": "2024-01-24T09:29:04.154971900Z",
     "start_time": "2024-01-24T09:29:04.154189400Z"
    }
   },
   "id": "a4837473adbf3fff"
  },
  {
   "cell_type": "code",
   "execution_count": 121,
   "outputs": [],
   "source": [
    "#This function takes similarity measure function, book and returns list of top5 similar books with it's ISBN.\n",
    "def recommend(fun,book):\n",
    "    arr = np.array(fun(book))\n",
    "    indices_sorted = np.argsort(np.float_(arr[:,0]))\n",
    "    top5 = arr[indices_sorted][-5:]\n",
    "    predicted_books = [books[books['ISBN'] == isbn]['Book-Title'] for isbn in top5[:,1]]\n",
    "    return predicted_books\n",
    "    \n",
    "    "
   ],
   "metadata": {
    "collapsed": false,
    "ExecuteTime": {
     "end_time": "2024-01-24T09:58:07.699637800Z",
     "start_time": "2024-01-24T09:58:07.693729600Z"
    }
   },
   "id": "6ef72c311a9042ba"
  },
  {
   "cell_type": "code",
   "execution_count": 119,
   "outputs": [],
   "source": [
    "prediction = recommend(similar,'Memoirs of a great Canadian detective: Incidents in the life of John Wilson Murray')"
   ],
   "metadata": {
    "collapsed": false,
    "ExecuteTime": {
     "end_time": "2024-01-24T09:57:04.451153500Z",
     "start_time": "2024-01-24T09:56:57.776536200Z"
    }
   },
   "id": "dbefc2fb78e8d471"
  },
  {
   "cell_type": "code",
   "execution_count": 120,
   "outputs": [
    {
     "data": {
      "text/plain": "[110779    Mommie Dearest : Joan Crawford\n Name: Book-Title, dtype: object,\n 73085    Factoring Humanity\n Name: Book-Title, dtype: object,\n 10929    Tiger Eyes\n Name: Book-Title, dtype: object,\n 53459    The Progress of Love\n Name: Book-Title, dtype: object,\n 53469    Memoirs of a great Canadian detective: Inciden...\n Name: Book-Title, dtype: object]"
     },
     "execution_count": 120,
     "metadata": {},
     "output_type": "execute_result"
    }
   ],
   "source": [
    "prediction"
   ],
   "metadata": {
    "collapsed": false,
    "ExecuteTime": {
     "end_time": "2024-01-24T09:57:07.266393100Z",
     "start_time": "2024-01-24T09:57:07.261362800Z"
    }
   },
   "id": "dd77656bcc36ea83"
  },
  {
   "cell_type": "code",
   "execution_count": 145,
   "outputs": [],
   "source": [
    "another_pred = recommend(similar,'To Kill a Mockingbird')"
   ],
   "metadata": {
    "collapsed": false,
    "ExecuteTime": {
     "end_time": "2024-01-24T10:28:00.072639800Z",
     "start_time": "2024-01-24T10:27:51.917571300Z"
    }
   },
   "id": "f8aed97d5cef6ea"
  },
  {
   "cell_type": "code",
   "execution_count": 146,
   "outputs": [
    {
     "data": {
      "text/plain": "[23538    Last Exit to Brooklyn\n Name: Book-Title, dtype: object,\n 29706    The Elements of Expression: Putting Thoughts i...\n Name: Book-Title, dtype: object,\n 20393    The Talented Mr. Ripley (Vintage Crime/Black L...\n Name: Book-Title, dtype: object,\n 2355    Murder on the Orient Express (Hercule Poirot M...\n Name: Book-Title, dtype: object,\n 37    To Kill a Mockingbird\n Name: Book-Title, dtype: object]"
     },
     "execution_count": 146,
     "metadata": {},
     "output_type": "execute_result"
    }
   ],
   "source": [
    "another_pred"
   ],
   "metadata": {
    "collapsed": false,
    "ExecuteTime": {
     "end_time": "2024-01-24T10:28:02.705474600Z",
     "start_time": "2024-01-24T10:28:02.678784800Z"
    }
   },
   "id": "e3e73fa2d63e28e8"
  },
  {
   "cell_type": "markdown",
   "source": [
    "Now we need to select scoring metric and perform some kind of hyperparameter selection. Hyper parameters might be different matrix factorization algorithms, parameters of these algorithms, similarity functions and any kind of data preparation. We might scale ratings to eliminate users rating bias, we might remove users/books that rated/have been rated only few times and so on..."
   ],
   "metadata": {
    "collapsed": false
   },
   "id": "8aac1dcfcea8a1ea"
  },
  {
   "cell_type": "markdown",
   "source": [],
   "metadata": {
    "collapsed": false
   },
   "id": "ed5cc591dc153e9c"
  }
 ],
 "metadata": {
  "kernelspec": {
   "display_name": "Python 3",
   "language": "python",
   "name": "python3"
  },
  "language_info": {
   "codemirror_mode": {
    "name": "ipython",
    "version": 2
   },
   "file_extension": ".py",
   "mimetype": "text/x-python",
   "name": "python",
   "nbconvert_exporter": "python",
   "pygments_lexer": "ipython2",
   "version": "2.7.6"
  }
 },
 "nbformat": 4,
 "nbformat_minor": 5
}
